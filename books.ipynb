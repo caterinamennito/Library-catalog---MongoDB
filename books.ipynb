{
 "cells": [
  {
   "cell_type": "code",
   "execution_count": 2,
   "id": "b65f8ae8",
   "metadata": {},
   "outputs": [
    {
     "data": {
      "text/plain": [
       "{'_id': ObjectId('68b04cb1098efcd8f9ac1214'),\n",
       " 'bookId': '2657.To_Kill_a_Mockingbird',\n",
       " 'title': 'To Kill a Mockingbird',\n",
       " 'series': 'To Kill a Mockingbird',\n",
       " 'author': 'Harper Lee',\n",
       " 'rating': 4.28,\n",
       " 'description': 'The unforgettable novel of a childhood in a sleepy Southern town and the crisis of conscience that rocked it, To Kill A Mockingbird became both an instant bestseller and a critical success when it was first published in 1960. It went on to win the Pulitzer Prize in 1961 and was later made into an Academy Award-winning film, also a classic.Compassionate, dramatic, and deeply moving, To Kill A Mockingbird takes readers to the roots of human behavior - to innocence and experience, kindness and cruelty, love and hatred, humor and pathos. Now with over 18 million copies in print and translated into forty languages, this regional story by a young Alabama woman claims universal appeal. Harper Lee always considered her book to be a simple love story. Today it is regarded as a masterpiece of American literature.',\n",
       " 'language': 'English',\n",
       " 'isbn': '9999999999999',\n",
       " 'genres': ['Classics',\n",
       "  'Fiction',\n",
       "  'Historical Fiction',\n",
       "  'School',\n",
       "  'Literature',\n",
       "  'Young Adult',\n",
       "  'Historical',\n",
       "  'Novels',\n",
       "  'Read For School',\n",
       "  'High School'],\n",
       " 'characters': ['Scout Finch',\n",
       "  'Atticus Finch',\n",
       "  'Jem Finch',\n",
       "  'Arthur Radley',\n",
       "  'Mayella Ewell',\n",
       "  'Aunt Alexandra',\n",
       "  'Bob Ewell',\n",
       "  'Calpurnia (housekeeper)',\n",
       "  'Tom Robinson',\n",
       "  'Miss Maudie Atkinson',\n",
       "  'Judge John Taylor',\n",
       "  'Dill Harris',\n",
       "  'Heck Tate',\n",
       "  'Stephanie Crawford'],\n",
       " 'bookFormat': 'Paperback',\n",
       " 'edition': None,\n",
       " 'pages': '324',\n",
       " 'publisher': 'Harper Perennial Modern Classics',\n",
       " 'publishDate': '05/23/06',\n",
       " 'firstPublishDate': '07/11/60',\n",
       " 'awards': ['Pulitzer Prize for Fiction (1961)',\n",
       "  'Audie Award for Classic (2007)',\n",
       "  'National Book Award Finalist for Fiction (1961)',\n",
       "  'Alabama Author Award for Fiction (1961)'],\n",
       " 'numRatings': 4501075,\n",
       " 'ratingsByStars': ['2363896', '1333153', '573280', '149952', '80794'],\n",
       " 'likedPercent': 95.0,\n",
       " 'setting': ['Maycomb, Alabama (United States)'],\n",
       " 'coverImg': 'https://i.gr-assets.com/images/S/compressed.photo.goodreads.com/books/1553383690l/2657.jpg',\n",
       " 'bbeScore': 2269402,\n",
       " 'bbeVotes': 23328,\n",
       " 'price': None}"
      ]
     },
     "execution_count": 2,
     "metadata": {},
     "output_type": "execute_result"
    }
   ],
   "source": [
    "from pymongo import MongoClient\n",
    "\n",
    "# Creation of a MongoDB Client (by giving the host and the port)\n",
    "client = MongoClient(host=\"localhost\", port=27017)\n",
    "\n",
    "# Instantiation of the database\n",
    "db = client[\"becode\"]\n",
    "\n",
    "# Let's see which collections are in the database\n",
    "db.list_collection_names()\n",
    "db.books.find_one()"
   ]
  },
  {
   "cell_type": "code",
   "execution_count": 3,
   "id": "11abfc0c",
   "metadata": {},
   "outputs": [
    {
     "name": "stdout",
     "output_type": "stream",
     "text": [
      "['10th Century', '11th Century', '12th Century', '13th Century', '14th Century', '15th Century', '16th Century', '17th Century', '18th Century', '19th Century', '1st Grade', '20th Century', '21st Century', '2nd Grade', '40k', 'Abuse', 'Academia', 'Academic', 'Academics', 'Action', 'Activism', 'Adolescence', 'Adoption', 'Adult', 'Adult Fiction', 'Adventure', 'Aeroplanes', 'Africa', 'African American', 'African American Literature', 'African American Romance', 'African Literature', 'Agriculture', 'Aircraft', 'Airships', 'Albanian Literature', 'Alchemy', 'Alcohol', 'Alexandria', 'Algebra', 'Algeria', 'Algorithms', 'Aliens', 'Alternate History', 'Alternate Universe', 'Alternative Medicine', 'Amateur Sleuth', 'Amazon', 'American', 'American Civil War', 'American Classics', 'American Fiction', 'American History', 'American Revolution', 'American Revolutionary War', 'Americana', 'Amish', 'Amish Fiction', 'Anarchism', 'Ancient', 'Ancient History', 'Angels', 'Anglo Saxon', 'Angola', 'Animal Fiction', 'Animals', 'Anime', 'Anthologies', 'Anthropology', 'Anthropomorphic', 'Anti Intellectualism', 'Anti Racist', 'Apocalyptic', 'Apple', 'Archaeology', 'Architecture', 'Art', 'Art Design', 'Art History', 'Art and Photography', 'Arthurian', 'Artificial Intelligence', 'Asexual', 'Asia', 'Asian Literature', 'Aspergers', 'Astrology', 'Astronomy', 'Atheism', 'Atlases', 'Audiobook', 'Australia', 'Autobiography', 'Aviation', 'BDSM', 'Babylon 5', 'Back To School', 'Baha I', 'Bande Dessinée', 'Bangladesh', 'Banking', 'Banks', 'Banned Books', 'Baseball', 'Basketball', 'Batman', 'Battle Of Britain', 'Battle Of Gettysburg', 'Beauty and The Beast', 'Beer', 'Belgian', 'Belgium', 'Belief', 'Benin', 'Biblical', 'Biblical Fiction', 'Bicycles', 'Biography', 'Biography Memoir', 'Biology', 'Birds', 'Bisexual', 'Bizarro Fiction', 'Black Literature', 'Boarding School', 'Bolivia', 'Book Club', 'Books About Books', 'Booze', 'Botswana', 'Boys Love', 'Brain', 'Brazil', 'Brewing', 'British Literature', 'Buddhism', 'Buffy The Vampire Slayer', 'Buisness', 'Bulgaria', 'Bulgarian Literature', 'Burundi', 'Buses', 'Business', 'Butch Femme', 'Cameroon', 'Canada', 'Canadian Literature', 'Canon', 'Cars', 'Cartography', 'Cartoon', 'Category Romance', 'Catholic', 'Cats', 'Central Africa', 'Chapter Books', 'Chemistry', 'Chess', 'Chick Lit', 'Childrens', 'Childrens Classics', 'China', 'Chinese Literature', 'Choose Your Own Adventure', 'Christian', 'Christian Contemporary Fiction', 'Christian Fantasy', 'Christian Fiction', 'Christian Historical Fiction', 'Christian Living', 'Christian Non Fiction', 'Christian Romance', 'Christianity', 'Christmas', 'Church', 'Church History', 'Cinderella', 'Cities', 'Civil War', 'Civil War Eastern Theater', 'Civil War History', 'Class', 'Classic Literature', 'Classical Music', 'Classical Studies', 'Classics', 'Clean Romance', 'Climate Change', 'Climate Change Fiction', 'Climbing', 'Cocktails', 'Coding', 'Collections', 'College', 'Colouring Books', 'Comedian', 'Comedy', 'Comic Book', 'Comic Fantasy', 'Comic Strips', 'Comics', 'Comics Bd', 'Comics Manga', 'Coming Of Age', 'Comix', 'Communication', 'Computer Science', 'Computers', 'Conservation', 'Conspiracy Theories', 'Contemporary', 'Contemporary Romance', 'Cookbooks', 'Cooking', 'Counselling', 'Counter Culture', 'Counting', 'Cozy Mystery', 'Crafts', 'Creation Science', 'Crime', 'Criticism', 'Cross Dressing', 'Cryptids', 'Cryptozoology', 'Cthulhu Mythos', 'Cuisine', 'Culinary', 'Cult Classics', 'Cults', 'Cultural', 'Cultural Heritage', 'Cultural Studies', 'Cyberpunk', 'Cycling', 'Czech Literature', 'Danish', 'Dark', 'Dark Fantasy', 'Dc Comics', 'Death', 'Deception', 'Demons', 'Denmark', 'Design', 'Detective', 'Diary', 'Dictionaries', 'Did Not Finish', 'Diets', 'Dinosaurs', 'Disability', 'Disability Studies', 'Discipleship', 'Disease', 'Divination', 'Divorce', 'Doctor Who', 'Doctors', 'Dogs', 'Dragonlance', 'Dragons', 'Drama', 'Drawing', 'Drinking', 'Dungeons and Dragons', 'Dutch Literature', 'Dying Earth', 'Dystopia', 'Earth Sciences', 'Eastern Africa', 'Eastern Philosophy', 'Ecclesiology', 'Ecology', 'Economics', 'Education', 'Edwardian', 'Egypt', 'Egyptian Literature', 'Egyptology', 'Electrical Engineering', 'Elizabethan Period', 'Elves', 'Emergency Services', 'Emotion', 'Engineering', 'English Civil War', 'English Literature', 'Entrepreneurship', 'Environment', 'Epic', 'Epic Fantasy', 'Epic Poetry', 'Eritrea', 'Erotic Historical Romance', 'Erotic Horror', 'Erotic Paranormal Romance', 'Erotic Romance', 'Erotica', 'Esoterica', 'Esp', 'Espionage', 'Essays', 'Ethiopia', 'Ethnography', 'European History', 'European Literature', 'Evangelism', 'Evolution', 'Fables', 'Fae', 'Fairies', 'Fairy Tale Retellings', 'Fairy Tales', 'Faith', 'Family', 'Fan Fiction', 'Fandom', 'Fantasy', 'Fantasy Of Manners', 'Fantasy Romance', 'Far Right', 'Fashion', 'Fat', 'Fat Acceptance', 'Fat Studies', 'Favorites', 'Female Authors', 'Feminism', 'Feminist Theory', 'Fiction', 'Field Guides', 'Fighters', 'Figure Skating', 'Film', 'Finance', 'Finnish Literature', 'Fire Services', 'Firefighters', 'Fitness', 'Folk Tales', 'Folklore', 'Food', 'Food History', 'Food Preservation', 'Food Writing', 'Food and Drink', 'Foodie', 'Football', 'Forgotten Realms', 'Foster Children', 'Foster Parents', 'Fostering', 'Fractured Fairy Tales', 'France', 'French Literature', 'French Revolution', 'Frugal', 'Fundamentalism', 'Futurism', 'Futuristic', 'Futuristic Romance', 'Game Design', 'Gamebooks', 'Games', 'Gaming', 'Gardening', 'Gastronomy', 'Gay', 'Gay Erotica', 'Gay Fiction', 'Gay For You', 'Geek', 'Gender', 'Gender Studies', 'Gender and Sexuality', 'Genderqueer', 'Genetics', 'Geoffrey Chaucer', 'Geography', 'Geology', 'Geometry', 'Georgian', 'Georgian Romance', 'German Literature', 'Germany', 'Ghana', 'Ghost Stories', 'Ghosts', 'Global Warming', 'Go', 'God', 'Goddess', 'Gods', 'Golden Age Mystery', 'Google', 'Goth', 'Gothic', 'Gothic Horror', 'Gothic Romance', 'Government', 'Grad School', 'Graffiti', 'Graphic Novels', 'Graphic Novels Comics', 'Graphic Novels Comics Manga', 'Graphic Novels Manga', 'Greece', 'Greek Mythology', 'Green', 'Growth Mindset', 'Guidebook', 'Guides', 'Guinea', 'Hackers', 'Halloween', 'Hard Boiled', 'Hard Science Fiction', 'Harem', 'Harlequin', 'Harlequin Blaze', 'Harlequin Desire', 'Harlequin Heartwarming', 'Harlequin Historical', 'Harlequin Nocturne', 'Harlequin Presents', 'Harlequin Romance', 'Harlequin Teen', 'Health', 'Health Care', 'Helicopters', 'Herbs', 'Heroic Fantasy', 'High Fantasy', 'High School', 'Hinduism', 'Hip Hop', 'Historical', 'Historical Fantasy', 'Historical Fiction', 'Historical Mystery', 'Historical Romance', 'History', 'History Of Medicine', 'History Of Science', 'History and Politics', 'Hockey', 'Holiday', 'Holland', 'Holocaust', 'Homeschool', 'Horror', 'Horse Racing', 'Horses', 'Horticulture', 'How To', 'Hqn', 'Hugo Awards', 'Human Development', 'Human Resources', 'Humanities', 'Humor', 'Hungarian Literature', 'Hungary', 'Illness', 'India', 'Indian Literature', 'Indonesian Literature', 'Information Science', 'Inspirational', 'Intelligent Design', 'International', 'International Development', 'International Literature', 'International Relations', 'Internet', 'Interracial Romance', 'Intersex', 'Iran', 'Ireland', 'Irish Literature', 'Islam', 'Islamism', 'Israel', 'Italian Literature', 'Italy', 'Ivory Coast', 'Japan', 'Japanese History', 'Japanese Literature', 'Jazz', 'Jewellery', 'Jewish', 'Jokes', 'Josei', 'Journal', 'Journaling', 'Journalism', 'Judaica', 'Judaism', 'Juvenile', 'Kazakhstan', 'Kenya', 'Kids', 'Knitting', 'Komik', 'LGBT', 'Labor', 'Language', 'Latin American', 'Latin American History', 'Latin American Literature', 'Law', 'Lds', 'Lds Fiction', 'Lds Non Fiction', 'Leadership', 'Lebanon', 'Led Zeppelin', 'Legal Thriller', 'Lenin', 'Lesbian', 'Lesbian Fiction', 'Lesbian Romance', 'Liberia', 'Librarianship', 'Library Science', 'Libya', 'Lie', 'Light Novel', 'Linguistics', 'Literary Criticism', 'Literary Fiction', 'Literature', 'Logic', 'London Underground', 'Love', 'Love Inspired', 'Love Inspired Historical', 'Love Inspired Suspense', 'Love Story', 'Lovecraftian', 'Loveswept', 'Low Fantasy', 'M F M', 'M F Romance', 'M M Contemporary', 'M M F', 'M M Fantasy', 'M M Historical Romance', 'M M M', 'M M Mystery', 'M M Paranormal', 'M M Romance', 'M M Science Fiction', 'M M Sports Romance', 'M M Young Adult', 'Magic', 'Magical Realism', 'Magick', 'Mail Order Brides', 'Malawi', 'Mali', 'Management', 'Manga', 'Manga Romance', 'Manhwa', 'Maps', 'Marathi', 'Maritime', 'Marriage', 'Martial Arts', 'Marvel', 'Mary Shelley', 'Mathematics', 'Media Tie In', 'Medical', 'Medicine', 'Medieval', 'Medieval History', 'Medieval Romance', 'Memoir', 'Menage', 'Mental Health', 'Mental Illness', 'Mermaids', 'Metaphysics', 'Microhistory', 'Middle Grade', 'Military Fiction', 'Military History', 'Military Romance', 'Military Science Fiction', 'Mills and Boon', 'Mine', 'Mira', 'Mixed Martial Arts', 'Mmorpg', 'Modern', 'Modern Classics', 'Money', 'Money Management', 'Monsters', 'Mormonism', 'Moroccan', 'Morocco', 'Motorcycle', 'Motorcycling', 'Mountaineering', 'Mozambique', 'Multicultural Literature', 'Murder Mystery', 'Museology', 'Museums', 'Music', 'Music Biography', 'Musicals', 'Musicians', 'Muslimah', 'Muslims', 'Mystery', 'Mystery Thriller', 'Mysticism', 'Mythology', 'NSFW', 'Namibia', 'Native American History', 'Native Americans', 'Natural History', 'Nature', 'Naturopathy', 'Naval Historical Fiction', 'Naval History', 'Nazi Party', 'Near Future', 'Nerd', 'Neuroscience', 'New Adult', 'New Adult Romance', 'New Age', 'New Testament', 'New Weird', 'New York', 'Nigeria', 'Nobel Prize', 'Noir', 'Nonfiction', 'Nordic Noir', 'Norman', 'Northern Africa', 'Novella', 'Novels', 'Number', 'Numerology', 'Nursery Rhymes', 'Nursing', 'Nutrition', 'Occult', 'Old Testament', 'Omegaverse', 'Oral History', 'Ornithology', 'Outdoors', 'Own', 'Paganism', 'Pakistan', 'Palaeontology', 'Paramedics', 'Paranormal', 'Paranormal Mystery', 'Paranormal Romance', 'Paranormal Urban Fantasy', 'Parenting', 'Peak Oil', 'Personal Development', 'Personal Finance', 'Philosophy', 'Photography', 'Physics', 'Picture Books', 'Pilots', 'Pirates', 'Planetary Romance', 'Planets', 'Plantagenet', 'Plants', 'Plays', 'Plus Size', 'Poetry', 'Poetry Plays', 'Poland', 'Police', 'Polish Literature', 'Political Science', 'Politics', 'Polyamorous', 'Polyamory', 'Polygamy', 'Pop Culture', 'Popular Science', 'Pornography', 'Portugal', 'Portuguese Literature', 'Post Apocalyptic', 'Post Colonial', 'Poverty', 'Prayer', 'Pre K', 'Pre Raphaelite', 'Prehistoric', 'Prehistory', 'Presidents', 'Princesses', 'Productivity', 'Professors', 'Programming', 'Prostitution', 'Pseudoscience', 'Psychiatry', 'Psychoanalysis', 'Psychological Thriller', 'Psychology', 'Pulp', 'Punk', 'Punx', 'Puzzles', 'Quantum Mechanics', 'Queer', 'Queer Lit', 'Queer Studies', 'Quilting', 'Rabbits', 'Race', 'Racing', 'Railways', 'Read For College', 'Read For School', 'Realistic Fiction', 'Recreation', 'Reference', 'Regency', 'Regency Romance', 'Relationships', 'Religion', 'Reportage', 'Republic Of The Congo', 'Research', 'Retellings', 'Reverse Harem', 'Road Trip', 'Robots', 'Rock N Roll', 'Role Playing Games', 'Roman', 'Roman Britain', 'Romance', 'Romania', 'Romanian Literature', 'Romanovs', 'Romantic', 'Romantic Suspense', 'Romanticism', 'Royal Air Force', 'Rus', 'Russia', 'Russian History', 'Russian Literature', 'Russian Revolution', 'Rwanda', 'Sao Tome and Principe', 'Satanism', 'Scandinavian Literature', 'School', 'School Stories', 'Sci Fi Fantasy', 'Science', 'Science Fiction', 'Science Fiction Fantasy', 'Science Fiction Romance', 'Science Nature', 'Scotland', 'Scripture', 'Seinen', 'Self Help', 'Semiotics', 'Senegal', 'Sequential Art', 'Serbian Literature', 'Sewing', 'Sex Work', 'Sexuality', 'Shapeshifters', 'Shojo', 'Shonen', 'Short Stories', 'Short Story Collection', 'Shounen Ai', 'Sierra Leone', 'Silhouette', 'Singularity', 'Skepticism', 'Slash Fiction', 'Slice Of Life', 'Soccer', 'Social', 'Social Change', 'Social Issues', 'Social Justice', 'Social Media', 'Social Movements', 'Social Science', 'Social Work', 'Society', 'Sociology', 'Software', 'Soldiers', 'Somalia', 'South Africa', 'Southern', 'Southern Gothic', 'Soviet History', 'Soviet Union', 'Space', 'Space Opera', 'Spain', 'Spanish Civil War', 'Spanish History', 'Spanish Literature', 'Speculative Fiction', 'Spider Man', 'Spiritualism', 'Spirituality', 'Splatterpunk', 'Sports', 'Sports Romance', 'Spy Thriller', 'Stand Up', 'Star Trek', 'Star Trek Deep Space Nine', 'Star Trek Original Series', 'Star Trek The Next Generation', 'Star Trek Voyager', 'Star Wars', 'Steampunk', 'Stories', 'Storytime', 'Street Art', 'Strippers', 'Stuart', 'Students', 'Sudan', 'Superheroes', 'Superman', 'Supernatural', 'Supernatural Romance', 'Surreal', 'Survival', 'Suspense', 'Sustainability', 'Swashbuckling', 'Sweden', 'Swedish Literature', 'Sword and Planet', 'Sword and Sorcery', 'Tanzania', 'Taoism', 'Tarot', 'Tasmania', 'Taxation', 'Tea', 'Teachers', 'Teaching', 'Technical', 'Technology', 'Teen', 'Terrorism', 'Textbooks', 'The Americas', 'The United States Of America', 'The World', 'Theatre', 'Thelema', 'Theology', 'Theory', 'Theosophy', 'Thriller', 'Time Travel', 'Time Travel Romance', 'Togo', 'Traditional Chinese Medicine', 'Traditional Regency', 'Tragedy', 'Trains', 'Transgender', 'Transport', 'Travel', 'Travelogue', 'Trivia', 'True Crime', 'True Story', 'Tudor Period', 'Turkish', 'Turkish Literature', 'Tv', 'Uganda', 'Ukraine', 'Ukrainian Literature', 'Unfinished', 'Unicorns', 'United States', 'Urban', 'Urban Fantasy', 'Urban Planning', 'Urban Studies', 'Urbanism', 'Us Presidents', 'Usability', 'Utopia', 'Vaccines', 'Vampires', 'Vegan', 'Vegetarian', 'Vegetarianism', 'Victor Frankenstein', 'Victorian', 'Victorian Romance', 'Video Games', 'Viking Romance', 'Virtual Reality', 'Visual Art', 'Walking', 'War', 'Warcraft', 'Warriors', 'Web', 'Webcomic', 'Website Design', 'Weird Fiction', 'Weird West', 'Werewolves', 'Western Africa', 'Western Historical Romance', 'Western Romance', 'Westerns', 'Whodunit', 'Wicca', 'Wilderness', 'Wildlife', 'Wine', 'Witchcraft', 'Witches', 'Wizards', 'Wolves', 'Womens', 'Womens Fiction', 'Womens Studies', 'Wonder Woman', 'Woodwork', 'Words', 'World History', 'World Of Darkness', 'World Of Warcraft', 'World War I', 'World War II', 'Writing', 'X Men', 'Yaoi', 'Yeti', 'Young Adult', 'Young Adult Contemporary', 'Young Adult Fantasy', 'Young Adult Historical Fiction', 'Young Adult Paranormal', 'Young Adult Romance', 'Young Adult Science Fiction', 'Young Readers', 'Yuri', 'Zambia', 'Zen', 'Zimbabwe', 'Zombies', '漫画']\n"
     ]
    }
   ],
   "source": [
    "import ast\n",
    "\n",
    "raw_genres = db[\"books\"].find().distinct(\"genres\")\n",
    "\n",
    "print(raw_genres)"
   ]
  },
  {
   "cell_type": "code",
   "execution_count": 4,
   "id": "80db12fb",
   "metadata": {},
   "outputs": [
    {
     "name": "stdout",
     "output_type": "stream",
     "text": [
      "1692\n"
     ]
    }
   ],
   "source": [
    "# find all books in dystopian genre\n",
    "dystopian_books = db[\"books\"].find({\"genres\": \"Dystopia\"})\n",
    "print(len(list(dystopian_books)))"
   ]
  },
  {
   "cell_type": "code",
   "execution_count": 16,
   "id": "f72134aa",
   "metadata": {},
   "outputs": [
    {
     "name": "stdout",
     "output_type": "stream",
     "text": [
      "Immortality: 4.14\n",
      "The Unbearable Lightness of Being: 4.1\n",
      "Terra Nostra: 4.1\n",
      "The Joke: 4.01\n",
      "The Book of Laughter and Forgetting: 3.99\n",
      "The Art of the Novel: 3.97\n",
      "Life is Elsewhere: 3.95\n",
      "Laughable Loves: 3.87\n",
      "Farewell Waltz: 3.86\n",
      "Ignorance: 3.78\n",
      "Jacques and His Master: An Homage to Diderot in Three Acts: 3.77\n",
      "Edward And God: 3.7\n",
      "Identity: 3.68\n",
      "Slowness: 3.65\n",
      "The Festival of Insignificance: 3.33\n"
     ]
    }
   ],
   "source": [
    "kundera_books = db['books'].find({\"author\": {\"$regex\": \"Milan Kundera\"}}).sort(\"rating\", -1)\n",
    "\n",
    "for book in kundera_books:\n",
    "    print(f\"{book['title']}: {book['rating']}\")"
   ]
  },
  {
   "cell_type": "code",
   "execution_count": 27,
   "id": "a8c8b628",
   "metadata": {},
   "outputs": [
    {
     "name": "stdout",
     "output_type": "stream",
     "text": [
      "Average rating of Dystopia books: 3.95\n",
      "Average rating of Art books: 4.07\n",
      "Average rating of Bicycles books: 4.21\n",
      "Average rating of Gothic books: 3.86\n",
      "Average rating of Magical Realism books: 3.90\n"
     ]
    }
   ],
   "source": [
    "def get_avg_rating_per_genre(genre):\n",
    "    average_rating = list(db['books'].aggregate([\n",
    "        {\"$match\": {\"genres\": genre}},\n",
    "        {\"$group\": {\"_id\": None, \"avgRating\": {\"$avg\": \"$rating\"}}}\n",
    "    ]))\n",
    "    print(f\"Average rating of {genre} books: {average_rating[0]['avgRating']:.2f}\")\n",
    "\n",
    "for genre in ['Dystopia', 'Art', 'Bicycles', 'Gothic', 'Magical Realism']:\n",
    "    get_avg_rating_per_genre(genre)"
   ]
  },
  {
   "cell_type": "code",
   "execution_count": null,
   "id": "4b08677c",
   "metadata": {},
   "outputs": [
    {
     "name": "stdout",
     "output_type": "stream",
     "text": [
      "Book genres with highest average ratings:\n",
      "Colouring Books: 4.73\n",
      "Aeroplanes: 4.71\n",
      "Erotic Paranormal Romance: 4.69\n",
      "Baha I: 4.62\n",
      "Punx: 4.60\n",
      "Omegaverse: 4.54\n",
      "Cartoon: 4.47\n",
      "Warriors: 4.46\n",
      "Comic Strips: 4.46\n",
      "Field Guides: 4.46\n"
     ]
    }
   ],
   "source": [
    "# genre with the highest average rating\n",
    "result = list(db['books'].aggregate([\n",
    "    {\"$unwind\": \"$genres\"},\n",
    "    {\"$group\": {\"_id\": \"$genres\", \"avgRating\": {\"$avg\": \"$rating\"}}},\n",
    "    {\"$sort\": {\"avgRating\": -1}},\n",
    "    {\"$limit\": 10}\n",
    "]))\n",
    "\n",
    "if result:\n",
    "    print(\"Book genres with highest average ratings:\")\n",
    "    for genre in result:\n",
    "        print(f\"{genre['_id']}: {genre['avgRating']:.2f}\")\n",
    "else:\n",
    "    print(\"No genres found.\")"
   ]
  }
 ],
 "metadata": {
  "kernelspec": {
   "display_name": "books_mongo_db_env (3.12.7)",
   "language": "python",
   "name": "python3"
  },
  "language_info": {
   "codemirror_mode": {
    "name": "ipython",
    "version": 3
   },
   "file_extension": ".py",
   "mimetype": "text/x-python",
   "name": "python",
   "nbconvert_exporter": "python",
   "pygments_lexer": "ipython3",
   "version": "3.12.7"
  }
 },
 "nbformat": 4,
 "nbformat_minor": 5
}
