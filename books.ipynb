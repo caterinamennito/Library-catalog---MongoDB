{
 "cells": [
  {
   "cell_type": "code",
   "execution_count": 1,
   "id": "b65f8ae8",
   "metadata": {},
   "outputs": [
    {
     "data": {
      "text/plain": [
       "{'_id': ObjectId('68af28a9a3af6e027af2aaf0'),\n",
       " 'bookId': '2767052-the-hunger-games',\n",
       " 'title': 'The Hunger Games',\n",
       " 'series': 'The Hunger Games #1',\n",
       " 'author': 'Suzanne Collins',\n",
       " 'rating': 4.33,\n",
       " 'description': \"WINNING MEANS FAME AND FORTUNE.LOSING MEANS CERTAIN DEATH.THE HUNGER GAMES HAVE BEGUN. . . .In the ruins of a place once known as North America lies the nation of Panem, a shining Capitol surrounded by twelve outlying districts. The Capitol is harsh and cruel and keeps the districts in line by forcing them all to send one boy and once girl between the ages of twelve and eighteen to participate in the annual Hunger Games, a fight to the death on live TV.Sixteen-year-old Katniss Everdeen regards it as a death sentence when she steps forward to take her sister's place in the Games. But Katniss has been close to dead before—and survival, for her, is second nature. Without really meaning to, she becomes a contender. But if she is to win, she will have to start making choices that weight survival against humanity and life against love.\",\n",
       " 'language': 'English',\n",
       " 'isbn': '9780439023481',\n",
       " 'genres': ['Young Adult',\n",
       "  'Fiction',\n",
       "  'Dystopia',\n",
       "  'Fantasy',\n",
       "  'Science Fiction',\n",
       "  'Romance',\n",
       "  'Adventure',\n",
       "  'Teen',\n",
       "  'Post Apocalyptic',\n",
       "  'Action'],\n",
       " 'characters': ['Katniss Everdeen',\n",
       "  'Peeta Mellark',\n",
       "  'Cato (Hunger Games)',\n",
       "  'Primrose Everdeen',\n",
       "  'Gale Hawthorne',\n",
       "  'Effie Trinket',\n",
       "  'Haymitch Abernathy',\n",
       "  'Cinna',\n",
       "  'President Coriolanus Snow',\n",
       "  'Rue',\n",
       "  'Flavius',\n",
       "  'Lavinia (Hunger Games)',\n",
       "  'Marvel',\n",
       "  'Glimmer',\n",
       "  'Clove',\n",
       "  'Foxface',\n",
       "  'Thresh',\n",
       "  'Greasy Sae',\n",
       "  'Madge Undersee',\n",
       "  'Caesar Flickerman',\n",
       "  'Claudius Templesmith',\n",
       "  'Octavia (Hunger Games)',\n",
       "  'Portia (hunger Games)'],\n",
       " 'bookFormat': 'Hardcover',\n",
       " 'edition': 'First Edition',\n",
       " 'pages': '374',\n",
       " 'publisher': 'Scholastic Press',\n",
       " 'publishDate': '09/14/08',\n",
       " 'firstPublishDate': None,\n",
       " 'awards': ['Locus Award Nominee for Best Young Adult Book (2009)',\n",
       "  'Georgia Peach Book Award (2009)',\n",
       "  'Buxtehuder Bulle (2009)',\n",
       "  'Golden Duck Award for Young Adult (Hal Clement Award) (2009)',\n",
       "  \"Grand Prix de l'Imaginaire Nominee for Roman jeunesse étranger (2010)\",\n",
       "  'Books I Loved Best Yearly (BILBY) Awards for Older Readers (2012)',\n",
       "  \"West Australian Young Readers' Book Award (WAYRBA) for Older Readers (2010)\",\n",
       "  \"Red House Children's Book Award for Older Readers & Overall (2010)\",\n",
       "  'South Carolina Book Award for Junior and Young Adult Book (2011)',\n",
       "  'Charlotte Award (2010)',\n",
       "  'Colorado Blue Spruce Young Adult Book Award (2010)',\n",
       "  'Teen Buckeye Book Award (2009)',\n",
       "  \"Pennsylvania Young Readers' Choice Award for Young Adults (2010)\",\n",
       "  'Rhode Island Teen Book Award (2010)',\n",
       "  \"Dorothy Canfield Fisher Children's Book Award (2010)\",\n",
       "  'Evergreen Teen Book Award (2011)',\n",
       "  'Soaring Eagle Book Award (2009)',\n",
       "  'Milwaukee County Teen Book Award Nominee (2010)',\n",
       "  'Sakura Medal for Middle School Book (2010)',\n",
       "  'Michigan Library Association Thumbs Up! Award (2009)',\n",
       "  'Florida Teens Read (2009)',\n",
       "  'Deutscher Jugendliteraturpreis for Preis der Jugendjury (2010)',\n",
       "  'Iowa High School Book Award (2011)',\n",
       "  'New Mexico Land of Enchantment Award for Young Adult (2011)',\n",
       "  'Eliot Rosewater Indiana High School Book Award (2010)',\n",
       "  'The Inky Awards for Silver Inky (2009)',\n",
       "  'California Young Readers Medal for Young Adult (2011)',\n",
       "  'Lincoln Award (2011)',\n",
       "  'Kinderboekwinkelprijs (2010)',\n",
       "  'Missouri Truman Readers Award (2011)',\n",
       "  'CYBILS Award for Young Adult Fantasy & Science Fiction (2008)',\n",
       "  'Literaturpreis der Jury der jungen Leser for Jugendbuch (2010)',\n",
       "  'The Inky Awards Shortlist for Silver Inky (2009)',\n",
       "  'Prix Et-lisez-moi (2011)',\n",
       "  'Missouri Gateway Readers Award (2011)',\n",
       "  'Oklahoma Sequoyah Award for High School and Intermediate (2011)',\n",
       "  'Premio El Templo de las Mil Puertas for Mejor novela extranjera perteneciente a saga (2009)',\n",
       "  \"Rebecca Caudill Young Readers' Book Award (2011)\",\n",
       "  'LovelyBooks Leserpreis for Fantasy (2009)',\n",
       "  'LovelyBooks Leserpreis for Bestes Cover/Umschlag (2009)',\n",
       "  'Premi Protagonista Jove for Categoria 13-14 anys (2010)'],\n",
       " 'numRatings': 6376780,\n",
       " 'ratingsByStars': ['3444695', '1921313', '745221', '171994', '93557'],\n",
       " 'likedPercent': 96.0,\n",
       " 'setting': ['District 12, Panem', 'Capitol, Panem', 'Panem (United States)'],\n",
       " 'coverImg': 'https://i.gr-assets.com/images/S/compressed.photo.goodreads.com/books/1586722975l/2767052.jpg',\n",
       " 'bbeScore': 2993816,\n",
       " 'bbeVotes': 30516,\n",
       " 'price': '5.09'}"
      ]
     },
     "execution_count": 1,
     "metadata": {},
     "output_type": "execute_result"
    }
   ],
   "source": [
    "from pymongo import MongoClient\n",
    "\n",
    "# Creation of a MongoDB Client (by giving the host and the port)\n",
    "client = MongoClient(host=\"localhost\", port=27017)\n",
    "\n",
    "# Instantiation of the database\n",
    "db = client[\"becode\"]\n",
    "\n",
    "# Let's see which collections are in the database\n",
    "db.list_collection_names()\n",
    "db.books.find_one()"
   ]
  },
  {
   "cell_type": "code",
   "execution_count": 3,
   "id": "11abfc0c",
   "metadata": {},
   "outputs": [
    {
     "name": "stdout",
     "output_type": "stream",
     "text": [
      "['10th Century', '11th Century', '12th Century', '13th Century', '14th Century', '15th Century', '16th Century', '17th Century', '18th Century', '19th Century', '1st Grade', '20th Century', '21st Century', '2nd Grade', '40k', 'Abuse', 'Academia', 'Academic', 'Academics', 'Action', 'Activism', 'Adolescence', 'Adoption', 'Adult', 'Adult Fiction', 'Adventure', 'Aeroplanes', 'Africa', 'African American', 'African American Literature', 'African American Romance', 'African Literature', 'Agriculture', 'Aircraft', 'Airships', 'Albanian Literature', 'Alchemy', 'Alcohol', 'Alexandria', 'Algebra', 'Algeria', 'Algorithms', 'Aliens', 'Alternate History', 'Alternate Universe', 'Alternative Medicine', 'Amateur Sleuth', 'Amazon', 'American', 'American Civil War', 'American Classics', 'American Fiction', 'American History', 'American Revolution', 'American Revolutionary War', 'Americana', 'Amish', 'Amish Fiction', 'Anarchism', 'Ancient', 'Ancient History', 'Angels', 'Anglo Saxon', 'Angola', 'Animal Fiction', 'Animals', 'Anime', 'Anthologies', 'Anthropology', 'Anthropomorphic', 'Anti Intellectualism', 'Anti Racist', 'Apocalyptic', 'Apple', 'Archaeology', 'Architecture', 'Art', 'Art Design', 'Art History', 'Art and Photography', 'Arthurian', 'Artificial Intelligence', 'Asexual', 'Asia', 'Asian Literature', 'Aspergers', 'Astrology', 'Astronomy', 'Atheism', 'Atlases', 'Audiobook', 'Australia', 'Autobiography', 'Aviation', 'BDSM', 'Babylon 5', 'Back To School', 'Baha I', 'Bande Dessinée', 'Bangladesh', 'Banking', 'Banks', 'Banned Books', 'Baseball', 'Basketball', 'Batman', 'Battle Of Britain', 'Battle Of Gettysburg', 'Beauty and The Beast', 'Beer', 'Belgian', 'Belgium', 'Belief', 'Benin', 'Biblical', 'Biblical Fiction', 'Bicycles', 'Biography', 'Biography Memoir', 'Biology', 'Birds', 'Bisexual', 'Bizarro Fiction', 'Black Literature', 'Boarding School', 'Bolivia', 'Book Club', 'Books About Books', 'Booze', 'Botswana', 'Boys Love', 'Brain', 'Brazil', 'Brewing', 'British Literature', 'Buddhism', 'Buffy The Vampire Slayer', 'Buisness', 'Bulgaria', 'Bulgarian Literature', 'Burundi', 'Buses', 'Business', 'Butch Femme', 'Cameroon', 'Canada', 'Canadian Literature', 'Canon', 'Cars', 'Cartography', 'Cartoon', 'Category Romance', 'Catholic', 'Cats', 'Central Africa', 'Chapter Books', 'Chemistry', 'Chess', 'Chick Lit', 'Childrens', 'Childrens Classics', 'China', 'Chinese Literature', 'Choose Your Own Adventure', 'Christian', 'Christian Contemporary Fiction', 'Christian Fantasy', 'Christian Fiction', 'Christian Historical Fiction', 'Christian Living', 'Christian Non Fiction', 'Christian Romance', 'Christianity', 'Christmas', 'Church', 'Church History', 'Cinderella', 'Cities', 'Civil War', 'Civil War Eastern Theater', 'Civil War History', 'Class', 'Classic Literature', 'Classical Music', 'Classical Studies', 'Classics', 'Clean Romance', 'Climate Change', 'Climate Change Fiction', 'Climbing', 'Cocktails', 'Coding', 'Collections', 'College', 'Colouring Books', 'Comedian', 'Comedy', 'Comic Book', 'Comic Fantasy', 'Comic Strips', 'Comics', 'Comics Bd', 'Comics Manga', 'Coming Of Age', 'Comix', 'Communication', 'Computer Science', 'Computers', 'Conservation', 'Conspiracy Theories', 'Contemporary', 'Contemporary Romance', 'Cookbooks', 'Cooking', 'Counselling', 'Counter Culture', 'Counting', 'Cozy Mystery', 'Crafts', 'Creation Science', 'Crime', 'Criticism', 'Cross Dressing', 'Cryptids', 'Cryptozoology', 'Cthulhu Mythos', 'Cuisine', 'Culinary', 'Cult Classics', 'Cults', 'Cultural', 'Cultural Heritage', 'Cultural Studies', 'Cyberpunk', 'Cycling', 'Czech Literature', 'Danish', 'Dark', 'Dark Fantasy', 'Dc Comics', 'Death', 'Deception', 'Demons', 'Denmark', 'Design', 'Detective', 'Diary', 'Dictionaries', 'Did Not Finish', 'Diets', 'Dinosaurs', 'Disability', 'Disability Studies', 'Discipleship', 'Disease', 'Divination', 'Divorce', 'Doctor Who', 'Doctors', 'Dogs', 'Dragonlance', 'Dragons', 'Drama', 'Drawing', 'Drinking', 'Dungeons and Dragons', 'Dutch Literature', 'Dying Earth', 'Dystopia', 'Earth Sciences', 'Eastern Africa', 'Eastern Philosophy', 'Ecclesiology', 'Ecology', 'Economics', 'Education', 'Edwardian', 'Egypt', 'Egyptian Literature', 'Egyptology', 'Electrical Engineering', 'Elizabethan Period', 'Elves', 'Emergency Services', 'Emotion', 'Engineering', 'English Civil War', 'English Literature', 'Entrepreneurship', 'Environment', 'Epic', 'Epic Fantasy', 'Epic Poetry', 'Eritrea', 'Erotic Historical Romance', 'Erotic Horror', 'Erotic Paranormal Romance', 'Erotic Romance', 'Erotica', 'Esoterica', 'Esp', 'Espionage', 'Essays', 'Ethiopia', 'Ethnography', 'European History', 'European Literature', 'Evangelism', 'Evolution', 'Fables', 'Fae', 'Fairies', 'Fairy Tale Retellings', 'Fairy Tales', 'Faith', 'Family', 'Fan Fiction', 'Fandom', 'Fantasy', 'Fantasy Of Manners', 'Fantasy Romance', 'Far Right', 'Fashion', 'Fat', 'Fat Acceptance', 'Fat Studies', 'Favorites', 'Female Authors', 'Feminism', 'Feminist Theory', 'Fiction', 'Field Guides', 'Fighters', 'Figure Skating', 'Film', 'Finance', 'Finnish Literature', 'Fire Services', 'Firefighters', 'Fitness', 'Folk Tales', 'Folklore', 'Food', 'Food History', 'Food Preservation', 'Food Writing', 'Food and Drink', 'Foodie', 'Football', 'Forgotten Realms', 'Foster Children', 'Foster Parents', 'Fostering', 'Fractured Fairy Tales', 'France', 'French Literature', 'French Revolution', 'Frugal', 'Fundamentalism', 'Futurism', 'Futuristic', 'Futuristic Romance', 'Game Design', 'Gamebooks', 'Games', 'Gaming', 'Gardening', 'Gastronomy', 'Gay', 'Gay Erotica', 'Gay Fiction', 'Gay For You', 'Geek', 'Gender', 'Gender Studies', 'Gender and Sexuality', 'Genderqueer', 'Genetics', 'Geoffrey Chaucer', 'Geography', 'Geology', 'Geometry', 'Georgian', 'Georgian Romance', 'German Literature', 'Germany', 'Ghana', 'Ghost Stories', 'Ghosts', 'Global Warming', 'Go', 'God', 'Goddess', 'Gods', 'Golden Age Mystery', 'Google', 'Goth', 'Gothic', 'Gothic Horror', 'Gothic Romance', 'Government', 'Grad School', 'Graffiti', 'Graphic Novels', 'Graphic Novels Comics', 'Graphic Novels Comics Manga', 'Graphic Novels Manga', 'Greece', 'Greek Mythology', 'Green', 'Growth Mindset', 'Guidebook', 'Guides', 'Guinea', 'Hackers', 'Halloween', 'Hard Boiled', 'Hard Science Fiction', 'Harem', 'Harlequin', 'Harlequin Blaze', 'Harlequin Desire', 'Harlequin Heartwarming', 'Harlequin Historical', 'Harlequin Nocturne', 'Harlequin Presents', 'Harlequin Romance', 'Harlequin Teen', 'Health', 'Health Care', 'Helicopters', 'Herbs', 'Heroic Fantasy', 'High Fantasy', 'High School', 'Hinduism', 'Hip Hop', 'Historical', 'Historical Fantasy', 'Historical Fiction', 'Historical Mystery', 'Historical Romance', 'History', 'History Of Medicine', 'History Of Science', 'History and Politics', 'Hockey', 'Holiday', 'Holland', 'Holocaust', 'Homeschool', 'Horror', 'Horse Racing', 'Horses', 'Horticulture', 'How To', 'Hqn', 'Hugo Awards', 'Human Development', 'Human Resources', 'Humanities', 'Humor', 'Hungarian Literature', 'Hungary', 'Illness', 'India', 'Indian Literature', 'Indonesian Literature', 'Information Science', 'Inspirational', 'Intelligent Design', 'International', 'International Development', 'International Literature', 'International Relations', 'Internet', 'Interracial Romance', 'Intersex', 'Iran', 'Ireland', 'Irish Literature', 'Islam', 'Islamism', 'Israel', 'Italian Literature', 'Italy', 'Ivory Coast', 'Japan', 'Japanese History', 'Japanese Literature', 'Jazz', 'Jewellery', 'Jewish', 'Jokes', 'Josei', 'Journal', 'Journaling', 'Journalism', 'Judaica', 'Judaism', 'Juvenile', 'Kazakhstan', 'Kenya', 'Kids', 'Knitting', 'Komik', 'LGBT', 'Labor', 'Language', 'Latin American', 'Latin American History', 'Latin American Literature', 'Law', 'Lds', 'Lds Fiction', 'Lds Non Fiction', 'Leadership', 'Lebanon', 'Led Zeppelin', 'Legal Thriller', 'Lenin', 'Lesbian', 'Lesbian Fiction', 'Lesbian Romance', 'Liberia', 'Librarianship', 'Library Science', 'Libya', 'Lie', 'Light Novel', 'Linguistics', 'Literary Criticism', 'Literary Fiction', 'Literature', 'Logic', 'London Underground', 'Love', 'Love Inspired', 'Love Inspired Historical', 'Love Inspired Suspense', 'Love Story', 'Lovecraftian', 'Loveswept', 'Low Fantasy', 'M F M', 'M F Romance', 'M M Contemporary', 'M M F', 'M M Fantasy', 'M M Historical Romance', 'M M M', 'M M Mystery', 'M M Paranormal', 'M M Romance', 'M M Science Fiction', 'M M Sports Romance', 'M M Young Adult', 'Magic', 'Magical Realism', 'Magick', 'Mail Order Brides', 'Malawi', 'Mali', 'Management', 'Manga', 'Manga Romance', 'Manhwa', 'Maps', 'Marathi', 'Maritime', 'Marriage', 'Martial Arts', 'Marvel', 'Mary Shelley', 'Mathematics', 'Media Tie In', 'Medical', 'Medicine', 'Medieval', 'Medieval History', 'Medieval Romance', 'Memoir', 'Menage', 'Mental Health', 'Mental Illness', 'Mermaids', 'Metaphysics', 'Microhistory', 'Middle Grade', 'Military Fiction', 'Military History', 'Military Romance', 'Military Science Fiction', 'Mills and Boon', 'Mine', 'Mira', 'Mixed Martial Arts', 'Mmorpg', 'Modern', 'Modern Classics', 'Money', 'Money Management', 'Monsters', 'Mormonism', 'Moroccan', 'Morocco', 'Motorcycle', 'Motorcycling', 'Mountaineering', 'Mozambique', 'Multicultural Literature', 'Murder Mystery', 'Museology', 'Museums', 'Music', 'Music Biography', 'Musicals', 'Musicians', 'Muslimah', 'Muslims', 'Mystery', 'Mystery Thriller', 'Mysticism', 'Mythology', 'NSFW', 'Namibia', 'Native American History', 'Native Americans', 'Natural History', 'Nature', 'Naturopathy', 'Naval Historical Fiction', 'Naval History', 'Nazi Party', 'Near Future', 'Nerd', 'Neuroscience', 'New Adult', 'New Adult Romance', 'New Age', 'New Testament', 'New Weird', 'New York', 'Nigeria', 'Nobel Prize', 'Noir', 'Nonfiction', 'Nordic Noir', 'Norman', 'Northern Africa', 'Novella', 'Novels', 'Number', 'Numerology', 'Nursery Rhymes', 'Nursing', 'Nutrition', 'Occult', 'Old Testament', 'Omegaverse', 'Oral History', 'Ornithology', 'Outdoors', 'Own', 'Paganism', 'Pakistan', 'Palaeontology', 'Paramedics', 'Paranormal', 'Paranormal Mystery', 'Paranormal Romance', 'Paranormal Urban Fantasy', 'Parenting', 'Peak Oil', 'Personal Development', 'Personal Finance', 'Philosophy', 'Photography', 'Physics', 'Picture Books', 'Pilots', 'Pirates', 'Planetary Romance', 'Planets', 'Plantagenet', 'Plants', 'Plays', 'Plus Size', 'Poetry', 'Poetry Plays', 'Poland', 'Police', 'Polish Literature', 'Political Science', 'Politics', 'Polyamorous', 'Polyamory', 'Polygamy', 'Pop Culture', 'Popular Science', 'Pornography', 'Portugal', 'Portuguese Literature', 'Post Apocalyptic', 'Post Colonial', 'Poverty', 'Prayer', 'Pre K', 'Pre Raphaelite', 'Prehistoric', 'Prehistory', 'Presidents', 'Princesses', 'Productivity', 'Professors', 'Programming', 'Prostitution', 'Pseudoscience', 'Psychiatry', 'Psychoanalysis', 'Psychological Thriller', 'Psychology', 'Pulp', 'Punk', 'Punx', 'Puzzles', 'Quantum Mechanics', 'Queer', 'Queer Lit', 'Queer Studies', 'Quilting', 'Rabbits', 'Race', 'Racing', 'Railways', 'Read For College', 'Read For School', 'Realistic Fiction', 'Recreation', 'Reference', 'Regency', 'Regency Romance', 'Relationships', 'Religion', 'Reportage', 'Republic Of The Congo', 'Research', 'Retellings', 'Reverse Harem', 'Road Trip', 'Robots', 'Rock N Roll', 'Role Playing Games', 'Roman', 'Roman Britain', 'Romance', 'Romania', 'Romanian Literature', 'Romanovs', 'Romantic', 'Romantic Suspense', 'Romanticism', 'Royal Air Force', 'Rus', 'Russia', 'Russian History', 'Russian Literature', 'Russian Revolution', 'Rwanda', 'Sao Tome and Principe', 'Satanism', 'Scandinavian Literature', 'School', 'School Stories', 'Sci Fi Fantasy', 'Science', 'Science Fiction', 'Science Fiction Fantasy', 'Science Fiction Romance', 'Science Nature', 'Scotland', 'Scripture', 'Seinen', 'Self Help', 'Semiotics', 'Senegal', 'Sequential Art', 'Serbian Literature', 'Sewing', 'Sex Work', 'Sexuality', 'Shapeshifters', 'Shojo', 'Shonen', 'Short Stories', 'Short Story Collection', 'Shounen Ai', 'Sierra Leone', 'Silhouette', 'Singularity', 'Skepticism', 'Slash Fiction', 'Slice Of Life', 'Soccer', 'Social', 'Social Change', 'Social Issues', 'Social Justice', 'Social Media', 'Social Movements', 'Social Science', 'Social Work', 'Society', 'Sociology', 'Software', 'Soldiers', 'Somalia', 'South Africa', 'Southern', 'Southern Gothic', 'Soviet History', 'Soviet Union', 'Space', 'Space Opera', 'Spain', 'Spanish Civil War', 'Spanish History', 'Spanish Literature', 'Speculative Fiction', 'Spider Man', 'Spiritualism', 'Spirituality', 'Splatterpunk', 'Sports', 'Sports Romance', 'Spy Thriller', 'Stand Up', 'Star Trek', 'Star Trek Deep Space Nine', 'Star Trek Original Series', 'Star Trek The Next Generation', 'Star Trek Voyager', 'Star Wars', 'Steampunk', 'Stories', 'Storytime', 'Street Art', 'Strippers', 'Stuart', 'Students', 'Sudan', 'Superheroes', 'Superman', 'Supernatural', 'Supernatural Romance', 'Surreal', 'Survival', 'Suspense', 'Sustainability', 'Swashbuckling', 'Sweden', 'Swedish Literature', 'Sword and Planet', 'Sword and Sorcery', 'Tanzania', 'Taoism', 'Tarot', 'Tasmania', 'Taxation', 'Tea', 'Teachers', 'Teaching', 'Technical', 'Technology', 'Teen', 'Terrorism', 'Textbooks', 'The Americas', 'The United States Of America', 'The World', 'Theatre', 'Thelema', 'Theology', 'Theory', 'Theosophy', 'Thriller', 'Time Travel', 'Time Travel Romance', 'Togo', 'Traditional Chinese Medicine', 'Traditional Regency', 'Tragedy', 'Trains', 'Transgender', 'Transport', 'Travel', 'Travelogue', 'Trivia', 'True Crime', 'True Story', 'Tudor Period', 'Turkish', 'Turkish Literature', 'Tv', 'Uganda', 'Ukraine', 'Ukrainian Literature', 'Unfinished', 'Unicorns', 'United States', 'Urban', 'Urban Fantasy', 'Urban Planning', 'Urban Studies', 'Urbanism', 'Us Presidents', 'Usability', 'Utopia', 'Vaccines', 'Vampires', 'Vegan', 'Vegetarian', 'Vegetarianism', 'Victor Frankenstein', 'Victorian', 'Victorian Romance', 'Video Games', 'Viking Romance', 'Virtual Reality', 'Visual Art', 'Walking', 'War', 'Warcraft', 'Warriors', 'Web', 'Webcomic', 'Website Design', 'Weird Fiction', 'Weird West', 'Werewolves', 'Western Africa', 'Western Historical Romance', 'Western Romance', 'Westerns', 'Whodunit', 'Wicca', 'Wilderness', 'Wildlife', 'Wine', 'Witchcraft', 'Witches', 'Wizards', 'Wolves', 'Womens', 'Womens Fiction', 'Womens Studies', 'Wonder Woman', 'Woodwork', 'Words', 'World History', 'World Of Darkness', 'World Of Warcraft', 'World War I', 'World War II', 'Writing', 'X Men', 'Yaoi', 'Yeti', 'Young Adult', 'Young Adult Contemporary', 'Young Adult Fantasy', 'Young Adult Historical Fiction', 'Young Adult Paranormal', 'Young Adult Romance', 'Young Adult Science Fiction', 'Young Readers', 'Yuri', 'Zambia', 'Zen', 'Zimbabwe', 'Zombies', '漫画']\n"
     ]
    }
   ],
   "source": [
    "import ast\n",
    "\n",
    "raw_genres = db[\"books\"].find().distinct(\"genres\")\n",
    "\n",
    "print(raw_genres)"
   ]
  },
  {
   "cell_type": "code",
   "execution_count": 4,
   "id": "80db12fb",
   "metadata": {},
   "outputs": [
    {
     "name": "stdout",
     "output_type": "stream",
     "text": [
      "1692\n"
     ]
    }
   ],
   "source": [
    "# find all books in dystopian genre\n",
    "dystopian_books = db[\"books\"].find({\"genres\": \"Dystopia\"})\n",
    "print(len(list(dystopian_books)))"
   ]
  }
 ],
 "metadata": {
  "kernelspec": {
   "display_name": "books_mongo_db_env (3.12.7)",
   "language": "python",
   "name": "python3"
  },
  "language_info": {
   "codemirror_mode": {
    "name": "ipython",
    "version": 3
   },
   "file_extension": ".py",
   "mimetype": "text/x-python",
   "name": "python",
   "nbconvert_exporter": "python",
   "pygments_lexer": "ipython3",
   "version": "3.12.7"
  }
 },
 "nbformat": 4,
 "nbformat_minor": 5
}
